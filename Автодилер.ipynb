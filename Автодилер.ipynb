{
 "cells": [
  {
   "cell_type": "code",
   "execution_count": 1,
   "metadata": {
    "cocalc": {
     "outputs": {
      "1": {
       "name": "input",
       "opts": {
        "password": false,
        "prompt": "Стоимость машины без наценок,тыс.руб.:\n"
       },
       "output_type": "stream"
      }
     }
    },
    "collapsed": false
   },
   "outputs": [
    {
     "name": "stdout",
     "output_type": "stream",
     "text": [
      "Программа \"Автодилер\"\n"
     ]
    },
    {
     "name": "stdout",
     "output_type": "stream",
     "text": "Стоимость машины без наценок,тыс.руб.:\n "
    }
   ],
   "source": [
    "print('Программа \"Автодилер\"')\n",
    "price_net=float(input('Стоимость машины без наценок,тыс.руб.:\\n'))\n",
    "nalog=price_net*0.20\n",
    "registraciya=price_net*0.15\n",
    "agent_sbor=3.6\n",
    "dostavka=1\n",
    "print('Окончательная цена=',price_net+nalog+registraciya+agent_sbor+dostavka,'тыс.руб.')"
   ]
  },
  {
   "cell_type": "code",
   "execution_count": 0,
   "metadata": {
    "collapsed": false
   },
   "outputs": [
   ],
   "source": [
   ]
  }
 ],
 "metadata": {
  "kernelspec": {
   "display_name": "Python 3 (system-wide)",
   "language": "python",
   "metadata": {
    "cocalc": {
     "description": "Python 3 programming language",
     "priority": 100,
     "url": "https://www.python.org/"
    }
   },
   "name": "python3",
   "resource_dir": "/ext/jupyter/kernels/python3"
  },
  "language_info": {
   "codemirror_mode": {
    "name": "ipython",
    "version": 3
   },
   "file_extension": ".py",
   "mimetype": "text/x-python",
   "name": "python",
   "nbconvert_exporter": "python",
   "pygments_lexer": "ipython3",
   "version": "3.8.10"
  }
 },
 "nbformat": 4,
 "nbformat_minor": 4
}