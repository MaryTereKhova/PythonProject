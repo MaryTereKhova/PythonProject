{
 "cells": [
  {
   "cell_type": "code",
   "execution_count": 1,
   "metadata": {
    "cocalc": {
     "outputs": {
      "1": {
       "name": "input",
       "opts": {
        "password": false,
        "prompt": "Введите сумму счета за обед, руб.:\n"
       },
       "output_type": "stream",
       "value": "45"
      }
     }
    },
    "collapsed": false
   },
   "outputs": [
    {
     "name": "stdout",
     "output_type": "stream",
     "text": [
      "Программа \"Щедрый посетитель\"\n"
     ]
    },
    {
     "name": "stdout",
     "output_type": "stream",
     "text": "Введите сумму счета за обед, руб.:\n 45"
    },
    {
     "name": "stdout",
     "output_type": "stream",
     "text": [
      "Чаевые 15%: 6 руб.; чаевые 20%: 9 руб.\n"
     ]
    }
   ],
   "source": [
    "print('Программа \"Щедрый посетитель\"')\n",
    "summa_scheta=float(input('Введите сумму счета за обед, руб.:\\n'))\n",
    "print('Чаевые 15%:', int(summa_scheta*0.15),'руб.; чаевые 20%:', int(summa_scheta*0.20),'руб.')\n"
   ]
  },
  {
   "cell_type": "code",
   "execution_count": 0,
   "metadata": {
    "collapsed": false
   },
   "outputs": [
   ],
   "source": [
   ]
  }
 ],
 "metadata": {
  "kernelspec": {
   "display_name": "Python 3 (system-wide)",
   "language": "python",
   "metadata": {
    "cocalc": {
     "description": "Python 3 programming language",
     "priority": 100,
     "url": "https://www.python.org/"
    }
   },
   "name": "python3",
   "resource_dir": "/ext/jupyter/kernels/python3"
  },
  "language_info": {
   "codemirror_mode": {
    "name": "ipython",
    "version": 3
   },
   "file_extension": ".py",
   "mimetype": "text/x-python",
   "name": "python",
   "nbconvert_exporter": "python",
   "pygments_lexer": "ipython3",
   "version": "3.8.10"
  }
 },
 "nbformat": 4,
 "nbformat_minor": 4
}