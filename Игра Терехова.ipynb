{
 "cells": [
  {
   "cell_type": "code",
   "execution_count": 2,
   "metadata": {
    "cocalc": {
     "outputs": {
      "0": {
       "name": "input",
       "opts": {
        "password": false,
        "prompt": "Привет! Как тебя зовут?\n"
       },
       "output_type": "stream",
       "value": "Мария"
      },
      "10": {
       "name": "input",
       "opts": {
        "password": false,
        "prompt": "Введи число: "
       },
       "output_type": "stream",
       "value": "38"
      },
      "2": {
       "name": "input",
       "opts": {
        "password": false,
        "prompt": "Введи число: "
       },
       "output_type": "stream",
       "value": "45"
      },
      "4": {
       "name": "input",
       "opts": {
        "password": false,
        "prompt": "Введи число: "
       },
       "output_type": "stream",
       "value": "27"
      },
      "5": {
       "name": "input",
       "opts": {
        "password": false,
        "prompt": "Введи число: "
       },
       "output_type": "stream"
      },
      "8": {
       "name": "input",
       "opts": {
        "password": false,
        "prompt": "Введи число: "
       },
       "output_type": "stream",
       "value": "41"
      }
     }
    },
    "collapsed": false
   },
   "outputs": [
    {
     "name": "stdout",
     "output_type": "stream",
     "text": "Привет! Как тебя зовут?\n Мария"
    },
    {
     "name": "stdout",
     "output_type": "stream",
     "text": [
      "Отлично, Мария, я загадал число между 1 и 78. Сможешь угадать?\n"
     ]
    },
    {
     "name": "stdout",
     "output_type": "stream",
     "text": "Введи число:  45"
    },
    {
     "name": "stdout",
     "output_type": "stream",
     "text": [
      "Твое число больше загаданного мной.\n"
     ]
    },
    {
     "name": "stdout",
     "output_type": "stream",
     "text": "Введи число:  27"
    },
    {
     "name": "stdout",
     "output_type": "stream",
     "text": "Введи число:  "
    },
    {
     "name": "stdout",
     "output_type": "stream",
     "text": [
      "Твое число меньше того, что я загадал.\n"
     ],
     "value": "36"
    },
    {
     "name": "stdout",
     "output_type": "stream",
     "text": [
      "Твое число меньше того, что я загадал.\n"
     ]
    },
    {
     "name": "stdout",
     "output_type": "stream",
     "text": "Введи число:  41"
    },
    {
     "name": "stdout",
     "output_type": "stream",
     "text": [
      "Твое число больше загаданного мной.\n"
     ]
    },
    {
     "name": "stdout",
     "output_type": "stream",
     "text": "Введи число:  38"
    },
    {
     "name": "stdout",
     "output_type": "stream",
     "text": [
      "Ух ты, Мария! Ты угадал мое число, использовав 5 попыток!\n"
     ]
    }
   ],
   "source": [
    "# файл guess_number.py\n",
    "# импортируем модуль для работы со случайными числами\n",
    "import random\n",
    "\n",
    "# число попыток угадать\n",
    "guesses_made = 0\n",
    "\n",
    "# получаем имя пользователя из консольного ввода\n",
    "name = input('Привет! Как тебя зовут?\\n')\n",
    "\n",
    "# получаем случайное число в диапазоне от 1 до 78\n",
    "number = random.randint(1, 78)\n",
    "print ('Отлично, {0}, я загадал число между 1 и 78. Сможешь угадать?'.format(name))\n",
    "\n",
    "# пока пользователь не превысил число разрешенных попыток - 6\n",
    "while guesses_made < 6:\n",
    "   \n",
    "    # получаем число от пользователя\n",
    "    guess = int(input('Введи число: '))\n",
    "   \n",
    "    # увеличиваем счетчик числа попыток\n",
    "    guesses_made += 1\n",
    "\n",
    "    if guess < number:\n",
    "        print ('Твое число меньше того, что я загадал.')\n",
    "\n",
    "    if guess > number:\n",
    "        print ('Твое число больше загаданного мной.')\n",
    "\n",
    "    if guess == number:\n",
    "        break\n",
    "\n",
    "if guess == number:\n",
    "    print ('Ух ты, {0}! Ты угадал мое число, использовав {1} попыток!'.format(name, guesses_made))\n",
    "else:\n",
    "    print ('А вот и не угадал! Я загадал число {0}'.format(number))\n",
    "    "
   ]
  },
  {
   "cell_type": "code",
   "execution_count": 0,
   "metadata": {
    "collapsed": false
   },
   "outputs": [
   ],
   "source": [
   ]
  }
 ],
 "metadata": {
  "kernelspec": {
   "display_name": "Python 3 (system-wide)",
   "language": "python",
   "metadata": {
    "cocalc": {
     "description": "Python 3 programming language",
     "priority": 100,
     "url": "https://www.python.org/"
    }
   },
   "name": "python3",
   "resource_dir": "/ext/jupyter/kernels/python3"
  },
  "language_info": {
   "codemirror_mode": {
    "name": "ipython",
    "version": 3
   },
   "file_extension": ".py",
   "mimetype": "text/x-python",
   "name": "python",
   "nbconvert_exporter": "python",
   "pygments_lexer": "ipython3",
   "version": "3.8.10"
  }
 },
 "nbformat": 4,
 "nbformat_minor": 4
}