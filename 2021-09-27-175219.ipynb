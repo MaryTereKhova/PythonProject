{
 "cells": [
  {
   "cell_type": "code",
   "execution_count": 1,
   "metadata": {
    "cocalc": {
     "outputs": {
      "1": {
       "name": "input",
       "opts": {
        "password": false,
        "prompt": "Напиши свое любимое блюдо.\n"
       },
       "output_type": "stream",
       "value": "Пицца "
      },
      "2": {
       "name": "input",
       "opts": {
        "password": false,
        "prompt": "Напиши еще одно свое любимое блюдо.\n"
       },
       "output_type": "stream",
       "value": "Наполеон"
      }
     }
    },
    "collapsed": false
   },
   "outputs": [
    {
     "name": "stdout",
     "output_type": "stream",
     "text": [
      "Программа \"Невиданное блюдо\"\n"
     ]
    },
    {
     "name": "stdout",
     "output_type": "stream",
     "text": "Напиши свое любимое блюдо.\n Пицца "
    },
    {
     "name": "stdout",
     "output_type": "stream",
     "text": "Напиши еще одно свое любимое блюдо.\n Наполеон"
    },
    {
     "name": "stdout",
     "output_type": "stream",
     "text": [
      "Невиданное блюдо называется: Пицца Наполеон\n"
     ]
    }
   ],
   "source": [
    "print('Программа \"Невиданное блюдо\"')\n",
    "bludo_1=input('Напиши свое любимое блюдо.\\n')\n",
    "bludo_2=input('Напиши еще одно свое любимое блюдо.\\n')\n",
    "print('Невиданное блюдо называется:',bludo_1+bludo_2)"
   ]
  },
  {
   "cell_type": "code",
   "execution_count": 0,
   "metadata": {
    "collapsed": false
   },
   "outputs": [
   ],
   "source": [
   ]
  }
 ],
 "metadata": {
  "kernelspec": {
   "display_name": "Python 3 (system-wide)",
   "language": "python",
   "metadata": {
    "cocalc": {
     "description": "Python 3 programming language",
     "priority": 100,
     "url": "https://www.python.org/"
    }
   },
   "name": "python3",
   "resource_dir": "/ext/jupyter/kernels/python3"
  },
  "language_info": {
   "codemirror_mode": {
    "name": "ipython",
    "version": 3
   },
   "file_extension": ".py",
   "mimetype": "text/x-python",
   "name": "python",
   "nbconvert_exporter": "python",
   "pygments_lexer": "ipython3",
   "version": "3.8.10"
  }
 },
 "nbformat": 4,
 "nbformat_minor": 4
}